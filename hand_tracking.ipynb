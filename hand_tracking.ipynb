{
 "cells": [
  {
   "cell_type": "code",
   "execution_count": 1,
   "id": "719d0bd1",
   "metadata": {},
   "outputs": [],
   "source": [
    "import cv2\n",
    "import mediapipe as mp\n",
    "import tensorflow\n",
    "import os\n",
    "import uuid\n",
    "import numpy as np\n",
    "import time\n",
    "from math import pi"
   ]
  },
  {
   "cell_type": "code",
   "execution_count": 2,
   "id": "31395bda",
   "metadata": {},
   "outputs": [],
   "source": [
    "mp_drawing=mp.solutions.drawing_utils\n",
    "mp_hands=mp.solutions.hands"
   ]
  },
  {
   "cell_type": "code",
   "execution_count": 6,
   "id": "17e59bab",
   "metadata": {},
   "outputs": [],
   "source": [
    "joint_list=[[0,5,8],[0,9,12],[0,13,16]]"
   ]
  },
  {
   "cell_type": "code",
   "execution_count": 4,
   "id": "c50e9012",
   "metadata": {},
   "outputs": [],
   "source": [
    "def angle(v1, v2):\n",
    "    angle = np.arccos(np.dot(v1, v2) / (np.linalg.norm(v1) * np.linalg.norm(v2)))\n",
    "    angle=angle/pi*180\n",
    "    return angle"
   ]
  },
  {
   "cell_type": "code",
   "execution_count": 27,
   "id": "90d860dd",
   "metadata": {},
   "outputs": [
    {
     "ename": "IndentationError",
     "evalue": "expected an indented block after 'if' statement on line 18 (184310467.py, line 20)",
     "output_type": "error",
     "traceback": [
      "\u001b[1;36m  Cell \u001b[1;32mIn[27], line 20\u001b[1;36m\u001b[0m\n\u001b[1;33m    return image\u001b[0m\n\u001b[1;37m    ^\u001b[0m\n\u001b[1;31mIndentationError\u001b[0m\u001b[1;31m:\u001b[0m expected an indented block after 'if' statement on line 18\n"
     ]
    }
   ],
   "source": [
    "def calculate_angle(image, results, joint_list):\n",
    "    for hand in results.multi_hand_landmarks:\n",
    "        count=[0, 0, 0]\n",
    "        index=[int (hand.landmark[8].x*640), int(hand.landmark[8].y*480)]\n",
    "        index[0]=int (2.5*(index[0]-320))\n",
    "        index[1]=3*(index[1]-160)\n",
    "        for i, joint in enumerate(joint_list):\n",
    "            a=np.array([hand.landmark[joint[0]].x, hand.landmark[joint[0]].y, hand.landmark[joint[0]].z])\n",
    "            b=np.array([hand.landmark[joint[1]].x, hand.landmark[joint[1]].y, hand.landmark[joint[1]].z])\n",
    "            c=np.array([hand.landmark[joint[2]].x, hand.landmark[joint[2]].y, hand.landmark[joint[2]].z])\n",
    "            palm_joint=angle(a-b, c-b)\n",
    "            if (palm_joint>150):\n",
    "                count[i]=1\n",
    "            else: \n",
    "                count[i]=0\n",
    "        if count[0]:\n",
    "            cv2.circle(image, index, 12, (0, 0, 255), cv2.FILLED)\n",
    "        if count[0] and count[1]==0 and count[2]==0:\n",
    "            \n",
    "    return image\n",
    "    "
   ]
  },
  {
   "cell_type": "code",
   "execution_count": 26,
   "id": "54db19fd",
   "metadata": {
    "scrolled": false
   },
   "outputs": [],
   "source": [
    "cap = cv2.VideoCapture(0)\n",
    "prev_time=0\n",
    "with mp_hands.Hands(min_detection_confidence=0.8, min_tracking_confidence=0.8, max_num_hands=2) as hands:\n",
    "    while cap.isOpened():\n",
    "        ret, frame = cap.read()\n",
    "        image=cv2.cvtColor(frame, cv2.COLOR_BGR2RGB)\n",
    "        image=cv2.flip(image, 1)\n",
    "        image.flags.writeable=False\n",
    "        results=hands.process(image)\n",
    "        image.flags.writeable=True\n",
    "        image=cv2.cvtColor(image, cv2.COLOR_RGB2BGR)\n",
    "        if results.multi_hand_landmarks:\n",
    "            for num, hand in enumerate(results.multi_hand_landmarks):\n",
    "                mp_drawing.draw_landmarks(image, hand, mp_hands.HAND_CONNECTIONS)\n",
    "            calculate_angle(image, results, joint_list)\n",
    "        new_time=time.time()\n",
    "        fps=1/(new_time-prev_time)\n",
    "        prev_time=new_time\n",
    "        fps=int(fps)\n",
    "        fps=str(fps)\n",
    "        fps='fps: '+fps\n",
    "        gray = image\n",
    "        font = cv2.FONT_HERSHEY_SIMPLEX\n",
    "        cv2.putText(gray, fps, (10, 50), font, 1, (100, 255, 0), 1, cv2.LINE_AA)\n",
    "        cv2.imshow('Hand Tracking', gray)\n",
    "        if cv2.waitKey(10) & 0xFF == ord('q'):\n",
    "            break\n",
    "cap.release()\n",
    "cv2.destroyAllWindows()"
   ]
  },
  {
   "cell_type": "code",
   "execution_count": null,
   "id": "c9f85971",
   "metadata": {},
   "outputs": [],
   "source": []
  }
 ],
 "metadata": {
  "kernelspec": {
   "display_name": "Python 3 (ipykernel)",
   "language": "python",
   "name": "python3"
  },
  "language_info": {
   "codemirror_mode": {
    "name": "ipython",
    "version": 3
   },
   "file_extension": ".py",
   "mimetype": "text/x-python",
   "name": "python",
   "nbconvert_exporter": "python",
   "pygments_lexer": "ipython3",
   "version": "3.11.5"
  }
 },
 "nbformat": 4,
 "nbformat_minor": 5
}
